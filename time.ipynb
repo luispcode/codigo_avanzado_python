{
 "cells": [
  {
   "cell_type": "markdown",
   "metadata": {},
   "source": [
    "### Trabajando con tiempo en python"
   ]
  },
  {
   "cell_type": "code",
   "execution_count": 2,
   "metadata": {},
   "outputs": [],
   "source": [
    "import datetime"
   ]
  },
  {
   "cell_type": "markdown",
   "metadata": {},
   "source": [
    "#### Diferentes formatos y horas "
   ]
  },
  {
   "cell_type": "code",
   "execution_count": 3,
   "metadata": {},
   "outputs": [],
   "source": [
    "my_time = datetime.datetime.now()\n",
    "\n",
    "my_universal_time = datetime.datetime.utcnow()\n",
    "\n",
    "my_day = datetime.date.today()"
   ]
  },
  {
   "cell_type": "markdown",
   "metadata": {},
   "source": [
    "#### Ejemplo:"
   ]
  },
  {
   "cell_type": "code",
   "execution_count": 4,
   "metadata": {},
   "outputs": [
    {
     "name": "stdout",
     "output_type": "stream",
     "text": [
      "mi hora local : 2022-03-30 00:26:36.047841\n",
      "hora universal: 2022-03-30 03:26:36.047841\n",
      "\n",
      "Year: 30\n",
      "Month: 3\n",
      "Day: 30\n"
     ]
    }
   ],
   "source": [
    "print(f'mi hora local : {my_time}')\n",
    "print(f'hora universal: {my_universal_time}\\n')\n",
    "\n",
    "print(f'Year: {my_day.day}')\n",
    "print(f'Month: {my_day.month}')\n",
    "print(f'Day: {my_day.day}')"
   ]
  },
  {
   "cell_type": "code",
   "execution_count": null,
   "metadata": {},
   "outputs": [],
   "source": []
  }
 ],
 "metadata": {
  "kernelspec": {
   "display_name": "Python 3.10.6 64-bit",
   "language": "python",
   "name": "python3"
  },
  "language_info": {
   "codemirror_mode": {
    "name": "ipython",
    "version": 3
   },
   "file_extension": ".py",
   "mimetype": "text/x-python",
   "name": "python",
   "nbconvert_exporter": "python",
   "pygments_lexer": "ipython3",
   "version": "3.10.6"
  },
  "orig_nbformat": 4,
  "vscode": {
   "interpreter": {
    "hash": "e1ec09b0d1bbb5cdb2714cd3190b8798aa073293e786692a18afb00e186dc573"
   }
  }
 },
 "nbformat": 4,
 "nbformat_minor": 2
}
