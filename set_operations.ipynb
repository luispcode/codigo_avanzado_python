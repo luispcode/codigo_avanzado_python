{
 "cells": [
  {
   "cell_type": "markdown",
   "metadata": {},
   "source": [
    "Definicion de un set"
   ]
  },
  {
   "cell_type": "code",
   "execution_count": null,
   "metadata": {},
   "outputs": [],
   "source": [
    "my_set={1,2,3}\n",
    "my_set"
   ]
  },
  {
   "cell_type": "code",
   "execution_count": null,
   "metadata": {},
   "outputs": [],
   "source": [
    "my_set_ = set(range(1,4))\n",
    "my_set_"
   ]
  },
  {
   "cell_type": "code",
   "execution_count": null,
   "metadata": {},
   "outputs": [],
   "source": [
    "my_set = {1.0, \"Hi\", (1, 4, 7)}\n",
    "print(my_set)"
   ]
  },
  {
   "cell_type": "code",
   "execution_count": null,
   "metadata": {},
   "outputs": [],
   "source": [
    "my_set = {3, 4, 5}\n",
    "print(\"my_set =\", my_set)\n",
    "my_set2 = {\"Hola\", 23.3, False, True}\n",
    "print(\"my_set2 =\", my_set2)\n",
    "my_set3 = {3, 3, 2}\n",
    "print( \"my_set3 =\", my_set3)\n",
    "#my_set4 = {[1, 2, 3],4}\n",
    "#print(\"my_set4 =\", my_set4)"
   ]
  },
  {
   "cell_type": "code",
   "execution_count": null,
   "metadata": {},
   "outputs": [],
   "source": [
    "empty_set = {}\n",
    "print(type(empty_set))\n",
    "          \n",
    "empty_set = set()\n",
    "print(type(empty_set))"
   ]
  },
  {
   "cell_type": "code",
   "execution_count": null,
   "metadata": {},
   "outputs": [],
   "source": [
    "my_list = [1, 1, 2, 3, 4, 4, 5]\n",
    "my_set = set(my_list)\n",
    "print(my_set)\n",
    "\n",
    "my_tuple = (\"Hola\", \"Hola\", \"Hola\", 1)\n",
    "my_set2 = set(my_tuple)\n",
    "print(my_set2)"
   ]
  },
  {
   "cell_type": "code",
   "execution_count": null,
   "metadata": {},
   "outputs": [],
   "source": [
    "my_set = {1, 2, 3} \n",
    "print(my_set)\n",
    "# Añadir un elemento\n",
    "my_set.add(4)\n",
    "print(my_set)\n",
    "# Añadir múltiples elementos\n",
    "my_set.update([1, 2, 5])\n",
    "print(my_set)\n",
    "# Añadir múltiples elementos\n",
    "my_set.update((1, 7, 2), {6, 8})\n",
    "print(my_set)"
   ]
  },
  {
   "cell_type": "markdown",
   "metadata": {},
   "source": [
    "Remove da error si no se encuentra el elemento mientras que discard se ejecuta incluso si no encuentra el elemento en el set."
   ]
  },
  {
   "cell_type": "code",
   "execution_count": null,
   "metadata": {},
   "outputs": [],
   "source": [
    "my_set = {1, 2, 3, 4, 5, 6, 7}\n",
    "print(my_set)\n",
    "# Borrar un elemento existente\n",
    "my_set.discard(1)\n",
    "print(my_set)\n",
    "# Borrar un elemento existente\n",
    "my_set.remove(2)\n",
    "print(my_set)\n",
    "# Borrar un elemento inexistente\n",
    "my_set.discard(10)\n",
    "print(my_set)\n",
    "# Borrar un elemento inexistente\n",
    "my_set.remove(12)#remove da error si no encuentra el elemento.\n",
    "print(my_set)"
   ]
  },
  {
   "cell_type": "code",
   "execution_count": null,
   "metadata": {},
   "outputs": [],
   "source": [
    "my_set = {1, 2, 3, 4, 5, 6, 7}\n",
    "print(my_set)\n",
    "# Borrar un elemento aleatorio\n",
    "my_set.pop()\n",
    "print(my_set)\n",
    "# Limpiar el set\n",
    "my_set.clear()\n",
    "print(my_set)"
   ]
  },
  {
   "cell_type": "markdown",
   "metadata": {},
   "source": [
    "#### Operaciones con sets\n",
    "\n",
    "simbolo\tnombre:\n",
    "|\tUnión\n",
    "&\tIntersección\n",
    "-\tDiferencia\n",
    "^\tDiferencia simétrica"
   ]
  },
  {
   "cell_type": "markdown",
   "metadata": {},
   "source": [
    "#### Union de sets sets con |\n",
    "es como un union all"
   ]
  },
  {
   "cell_type": "code",
   "execution_count": null,
   "metadata": {},
   "outputs": [],
   "source": [
    "my_set1 = {3, 4, 5}\n",
    "my_set2 = {5, 6, 7}\n",
    "\n",
    "my_set3 = my_set1 | my_set2\n",
    "print(my_set3)"
   ]
  },
  {
   "cell_type": "markdown",
   "metadata": {},
   "source": [
    "#### Intersección de sets sets con &\n",
    "es como un inner join."
   ]
  },
  {
   "cell_type": "code",
   "execution_count": null,
   "metadata": {},
   "outputs": [],
   "source": [
    "my_set1 = {3, 4, 5}\n",
    "my_set2 = {5, 6, 7}\n",
    "\n",
    "my_set3 = my_set1 & my_set2 # solo elementos en comun.\n",
    "print(my_set3)"
   ]
  },
  {
   "cell_type": "markdown",
   "metadata": {},
   "source": [
    "#### diferencia de sets con -\n",
    "toma elimina los elementos en comun con otros sets.\n",
    "parecido a un right o left join a la inversa."
   ]
  },
  {
   "cell_type": "code",
   "execution_count": null,
   "metadata": {},
   "outputs": [],
   "source": [
    "my_set1 = {3, 4, 5}\n",
    "my_set2 = {5, 6, 7}\n",
    "\n",
    "my_set3 = my_set1 - my_set2 \n",
    "print(my_set3)\n",
    "\n",
    "my_set4 = my_set2 - my_set1\n",
    "print(my_set4)"
   ]
  },
  {
   "cell_type": "markdown",
   "metadata": {},
   "source": [
    "#### diferencia simetrica con ^\n",
    "es como un outer join.\n",
    "toma los elementos no compartidos."
   ]
  },
  {
   "cell_type": "code",
   "execution_count": null,
   "metadata": {},
   "outputs": [],
   "source": [
    "my_set1 = {3, 4, 5}\n",
    "my_set2 = {5, 6, 7}\n",
    "        \n",
    "my_set3 = my_set1 ^ my_set2\n",
    "print(my_set3)"
   ]
  },
  {
   "cell_type": "code",
   "execution_count": null,
   "metadata": {},
   "outputs": [],
   "source": [
    "set1 = {1,2,3,4,5,6,7}\n",
    "set2 = {5,6,7,8,9,10,11}\n",
    "print(\"Set1 \", set1)\n",
    "print(\"Set1 \", set2)\n",
    "\n",
    "print(\"\\nUnion\\n\")\n",
    "\n",
    "print(set1 | set2, \"con operador\")\n",
    "print(set1.union(set2), \"con metodo\")\n",
    "\n",
    "print(\"\\nInterseccion\\n\")\n",
    "\n",
    "print(set1 & set2, \"con operador\")\n",
    "print(set1.intersection(set2), \"con metodo\")\n",
    "\n",
    "print(\"\\nDiferencia\\n\")\n",
    "\n",
    "print(set1 - set2, \"con operador\")\n",
    "print(set1.difference(set2), \"con metodo\")\n",
    "\n",
    "print(\"\\nDiferencia simetrica\\n\")\n",
    "\n",
    "print(set1 ^ set2, \"con operador\")\n",
    "print(set1.symmetric_difference(set2), \"con metodo\")\n",
    "\n",
    "\n"
   ]
  },
  {
   "cell_type": "markdown",
   "metadata": {},
   "source": [
    "#### En caso de hacer operaciones con sets y hacerlo de forma más explícita pueden usar los métodos:"
   ]
  },
  {
   "cell_type": "code",
   "execution_count": null,
   "metadata": {},
   "outputs": [],
   "source": [
    "set1.union(set2)\n",
    "set1.symmetric_difference(set2)\n",
    "set1.difference(set2)\n",
    "set1.intersection(set2)"
   ]
  },
  {
   "cell_type": "code",
   "execution_count": null,
   "metadata": {},
   "outputs": [],
   "source": []
  }
 ],
 "metadata": {
  "kernelspec": {
   "display_name": "Python 3.10.6 64-bit",
   "language": "python",
   "name": "python3"
  },
  "language_info": {
   "codemirror_mode": {
    "name": "ipython",
    "version": 3
   },
   "file_extension": ".py",
   "mimetype": "text/x-python",
   "name": "python",
   "nbconvert_exporter": "python",
   "pygments_lexer": "ipython3",
   "version": "3.10.6"
  },
  "orig_nbformat": 4,
  "vscode": {
   "interpreter": {
    "hash": "e1ec09b0d1bbb5cdb2714cd3190b8798aa073293e786692a18afb00e186dc573"
   }
  }
 },
 "nbformat": 4,
 "nbformat_minor": 2
}
